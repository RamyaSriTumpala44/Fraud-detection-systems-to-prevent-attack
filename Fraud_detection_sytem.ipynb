{
 "cells": [
  {
   "cell_type": "code",
   "execution_count": 6,
   "metadata": {},
   "outputs": [],
   "source": [
    "import pandas as pd\n",
    "import numpy as np\n",
    "import hashlib"
   ]
  },
  {
   "cell_type": "code",
   "execution_count": 2,
   "metadata": {},
   "outputs": [],
   "source": [
    "data = {\n",
    "    'transaction_id': [1, 2, 3, 4, 5],\n",
    "    'user_id': [101, 102, 103, 104, 101],\n",
    "    'amount': [100, 200, 5000, 150, 120],\n",
    "    'timestamp': [\n",
    "        '2024-12-08 10:00:00',\n",
    "        '2024-12-08 10:05:00',\n",
    "        '2024-12-08 10:10:00',\n",
    "        '2024-12-08 10:15:00',\n",
    "        '2024-12-08 10:20:00',\n",
    "    ],\n",
    "}"
   ]
  },
  {
   "cell_type": "code",
   "execution_count": 3,
   "metadata": {},
   "outputs": [
    {
     "data": {
      "text/plain": [
       "{'transaction_id': [1, 2, 3, 4, 5],\n",
       " 'user_id': [101, 102, 103, 104, 101],\n",
       " 'amount': [100, 200, 5000, 150, 120],\n",
       " 'timestamp': ['2024-12-08 10:00:00',\n",
       "  '2024-12-08 10:05:00',\n",
       "  '2024-12-08 10:10:00',\n",
       "  '2024-12-08 10:15:00',\n",
       "  '2024-12-08 10:20:00']}"
      ]
     },
     "execution_count": 3,
     "metadata": {},
     "output_type": "execute_result"
    }
   ],
   "source": [
    "data"
   ]
  },
  {
   "cell_type": "code",
   "execution_count": 4,
   "metadata": {},
   "outputs": [],
   "source": [
    "df = pd.DataFrame(data)"
   ]
  },
  {
   "cell_type": "code",
   "execution_count": 5,
   "metadata": {},
   "outputs": [
    {
     "data": {
      "text/html": [
       "<div>\n",
       "<style scoped>\n",
       "    .dataframe tbody tr th:only-of-type {\n",
       "        vertical-align: middle;\n",
       "    }\n",
       "\n",
       "    .dataframe tbody tr th {\n",
       "        vertical-align: top;\n",
       "    }\n",
       "\n",
       "    .dataframe thead th {\n",
       "        text-align: right;\n",
       "    }\n",
       "</style>\n",
       "<table border=\"1\" class=\"dataframe\">\n",
       "  <thead>\n",
       "    <tr style=\"text-align: right;\">\n",
       "      <th></th>\n",
       "      <th>transaction_id</th>\n",
       "      <th>user_id</th>\n",
       "      <th>amount</th>\n",
       "      <th>timestamp</th>\n",
       "    </tr>\n",
       "  </thead>\n",
       "  <tbody>\n",
       "    <tr>\n",
       "      <th>0</th>\n",
       "      <td>1</td>\n",
       "      <td>101</td>\n",
       "      <td>100</td>\n",
       "      <td>2024-12-08 10:00:00</td>\n",
       "    </tr>\n",
       "    <tr>\n",
       "      <th>1</th>\n",
       "      <td>2</td>\n",
       "      <td>102</td>\n",
       "      <td>200</td>\n",
       "      <td>2024-12-08 10:05:00</td>\n",
       "    </tr>\n",
       "    <tr>\n",
       "      <th>2</th>\n",
       "      <td>3</td>\n",
       "      <td>103</td>\n",
       "      <td>5000</td>\n",
       "      <td>2024-12-08 10:10:00</td>\n",
       "    </tr>\n",
       "    <tr>\n",
       "      <th>3</th>\n",
       "      <td>4</td>\n",
       "      <td>104</td>\n",
       "      <td>150</td>\n",
       "      <td>2024-12-08 10:15:00</td>\n",
       "    </tr>\n",
       "    <tr>\n",
       "      <th>4</th>\n",
       "      <td>5</td>\n",
       "      <td>101</td>\n",
       "      <td>120</td>\n",
       "      <td>2024-12-08 10:20:00</td>\n",
       "    </tr>\n",
       "  </tbody>\n",
       "</table>\n",
       "</div>"
      ],
      "text/plain": [
       "   transaction_id  user_id  amount            timestamp\n",
       "0               1      101     100  2024-12-08 10:00:00\n",
       "1               2      102     200  2024-12-08 10:05:00\n",
       "2               3      103    5000  2024-12-08 10:10:00\n",
       "3               4      104     150  2024-12-08 10:15:00\n",
       "4               5      101     120  2024-12-08 10:20:00"
      ]
     },
     "execution_count": 5,
     "metadata": {},
     "output_type": "execute_result"
    }
   ],
   "source": [
    "df"
   ]
  },
  {
   "cell_type": "code",
   "execution_count": 7,
   "metadata": {},
   "outputs": [],
   "source": [
    "def compute_hash(row):\n",
    "    hash_input = f\"{row['transaction_id']}{row['user_id']}{row['amount']}{row['timestamp']}\"\n",
    "    return hashlib.sha256(hash_input.encode()).hexdigest()\n"
   ]
  },
  {
   "cell_type": "code",
   "execution_count": 8,
   "metadata": {},
   "outputs": [],
   "source": [
    "df['hash'] = df.apply(compute_hash, axis=1)"
   ]
  },
  {
   "cell_type": "code",
   "execution_count": 9,
   "metadata": {},
   "outputs": [],
   "source": [
    "# Fraud detection logic: identify anomalies in transaction amounts\n",
    "threshold = df['amount'].mean() + 2 * df['amount'].std()  # Anomaly threshold\n",
    "df['is_fraud'] = df['amount'] > threshold"
   ]
  },
  {
   "cell_type": "code",
   "execution_count": 10,
   "metadata": {},
   "outputs": [
    {
     "name": "stdout",
     "output_type": "stream",
     "text": [
      "Transaction Data with Fraud Detection and Security Hash:\n",
      "   transaction_id  user_id  amount            timestamp  \\\n",
      "0               1      101     100  2024-12-08 10:00:00   \n",
      "1               2      102     200  2024-12-08 10:05:00   \n",
      "2               3      103    5000  2024-12-08 10:10:00   \n",
      "3               4      104     150  2024-12-08 10:15:00   \n",
      "4               5      101     120  2024-12-08 10:20:00   \n",
      "\n",
      "                                                hash  is_fraud  \n",
      "0  3024ea022dbc1823aec93af18dba38f6c4b901440fcae5...     False  \n",
      "1  7831580c04783bbe32d6ecd0c65c4e15458f3637548423...     False  \n",
      "2  3d190a1791c1a57bc70c2183e103e331419bc653a6fc0b...     False  \n",
      "3  6a15b12274388955323fdc87b4f7ebb1ccfb4b3df40e31...     False  \n",
      "4  70de90c4086bf64ca20174dd85c8279fdd219872fe8f9c...     False  \n"
     ]
    }
   ],
   "source": [
    "# Display the results\n",
    "print(\"Transaction Data with Fraud Detection and Security Hash:\")\n",
    "print(df)\n"
   ]
  },
  {
   "cell_type": "code",
   "execution_count": 12,
   "metadata": {},
   "outputs": [],
   "source": [
    "#Example of verifying data integrity\n",
    "def verify_data_integrity(row):\n",
    "    recalculated_hash = compute_hash(row)\n",
    "    return recalculated_hash == row['hash']"
   ]
  },
  {
   "cell_type": "code",
   "execution_count": 13,
   "metadata": {},
   "outputs": [],
   "source": [
    " #Verify data integrity for all transactions\n",
    "df['is_hash_valid'] = df.apply(verify_data_integrity, axis=1)"
   ]
  },
  {
   "cell_type": "code",
   "execution_count": 14,
   "metadata": {},
   "outputs": [
    {
     "name": "stdout",
     "output_type": "stream",
     "text": [
      "\n",
      "Integrity Check Results:\n",
      "   transaction_id  is_hash_valid\n",
      "0               1           True\n",
      "1               2           True\n",
      "2               3           True\n",
      "3               4           True\n",
      "4               5           True\n"
     ]
    }
   ],
   "source": [
    "print(\"\\nIntegrity Check Results:\")\n",
    "print(df[['transaction_id', 'is_hash_valid']])"
   ]
  }
 ],
 "metadata": {
  "kernelspec": {
   "display_name": "Python 3",
   "language": "python",
   "name": "python3"
  },
  "language_info": {
   "codemirror_mode": {
    "name": "ipython",
    "version": 3
   },
   "file_extension": ".py",
   "mimetype": "text/x-python",
   "name": "python",
   "nbconvert_exporter": "python",
   "pygments_lexer": "ipython3",
   "version": "3.12.5"
  }
 },
 "nbformat": 4,
 "nbformat_minor": 2
}
